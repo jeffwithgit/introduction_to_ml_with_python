{
 "cells": [
  {
   "cell_type": "code",
   "execution_count": 1,
   "outputs": [],
   "source": [
    "import matplotlib.pyplot as plt\n",
    "import numpy as np\n",
    "from sklearn import datasets\n",
    "from sklearn.linear_model import LogisticRegressionCV\n",
    "from sklearn.metrics import roc_curve, auc\n",
    "from sklearn.model_selection import train_test_split\n",
    "from sklearn.preprocessing import label_binarize"
   ],
   "metadata": {
    "collapsed": false,
    "pycharm": {
     "name": "#%%\n",
     "is_executing": false
    }
   }
  },
  {
   "cell_type": "code",
   "execution_count": 2,
   "outputs": [],
   "source": [
    "iris = datasets.load_iris()\n",
    "X = iris.data\n",
    "y = iris.target\n",
    "#导入鸢尾花的数据集，并且设定X和y，X指的是各种特征的数据，y指的是分类结果。他们均是np.array形式。"
   ],
   "metadata": {
    "collapsed": false,
    "pycharm": {
     "name": "#%%\n",
     "is_executing": false
    }
   }
  },
  {
   "cell_type": "code",
   "execution_count": 3,
   "outputs": [],
   "source": [
    "X_train, X_test, y_train, y_test = train_test_split(X, y, test_size=0.5,  random_state=0)\n",
    "#将数据集分为训练集和测试集，比例为1：1"
   ],
   "metadata": {
    "collapsed": false,
    "pycharm": {
     "name": "#%%\n",
     "is_executing": false
    }
   }
  },
  {
   "cell_type": "code",
   "execution_count": 4,
   "outputs": [
    {
     "name": "stderr",
     "text": [
      "/usr/local/lib/python3.7/site-packages/sklearn/linear_model/_logistic.py:764: ConvergenceWarning: lbfgs failed to converge (status=1):\n",
      "STOP: TOTAL NO. of ITERATIONS REACHED LIMIT.\n",
      "\n",
      "Increase the number of iterations (max_iter) or scale the data as shown in:\n",
      "    https://scikit-learn.org/stable/modules/preprocessing.html\n",
      "Please also refer to the documentation for alternative solver options:\n",
      "    https://scikit-learn.org/stable/modules/linear_model.html#logistic-regression\n",
      "  extra_warning_msg=_LOGISTIC_SOLVER_CONVERGENCE_MSG)\n",
      "/usr/local/lib/python3.7/site-packages/sklearn/linear_model/_logistic.py:764: ConvergenceWarning: lbfgs failed to converge (status=1):\n",
      "STOP: TOTAL NO. of ITERATIONS REACHED LIMIT.\n",
      "\n",
      "Increase the number of iterations (max_iter) or scale the data as shown in:\n",
      "    https://scikit-learn.org/stable/modules/preprocessing.html\n",
      "Please also refer to the documentation for alternative solver options:\n",
      "    https://scikit-learn.org/stable/modules/linear_model.html#logistic-regression\n",
      "  extra_warning_msg=_LOGISTIC_SOLVER_CONVERGENCE_MSG)\n",
      "/usr/local/lib/python3.7/site-packages/sklearn/linear_model/_logistic.py:764: ConvergenceWarning: lbfgs failed to converge (status=1):\n",
      "STOP: TOTAL NO. of ITERATIONS REACHED LIMIT.\n",
      "\n",
      "Increase the number of iterations (max_iter) or scale the data as shown in:\n",
      "    https://scikit-learn.org/stable/modules/preprocessing.html\n",
      "Please also refer to the documentation for alternative solver options:\n",
      "    https://scikit-learn.org/stable/modules/linear_model.html#logistic-regression\n",
      "  extra_warning_msg=_LOGISTIC_SOLVER_CONVERGENCE_MSG)\n"
     ],
     "output_type": "stream"
    },
    {
     "data": {
      "text/plain": "LogisticRegressionCV(Cs=array([1.00000000e-02, 1.62377674e-02, 2.63665090e-02, 4.28133240e-02,\n       6.95192796e-02, 1.12883789e-01, 1.83298071e-01, 2.97635144e-01,\n       4.83293024e-01, 7.84759970e-01, 1.27427499e+00, 2.06913808e+00,\n       3.35981829e+00, 5.45559478e+00, 8.85866790e+00, 1.43844989e+01,\n       2.33572147e+01, 3.79269019e+01, 6.15848211e+01, 1.00000000e+02]),\n                     cv=3)"
     },
     "metadata": {},
     "output_type": "execute_result",
     "execution_count": 4
    }
   ],
   "source": [
    "alpha = np.logspace(-2, 2, 20)  #设置超参数范围\n",
    "model = LogisticRegressionCV(Cs = alpha, cv = 3, penalty = 'l2')  #使用L2正则化\n",
    "model.fit(X_train, y_train)"
   ],
   "metadata": {
    "collapsed": false,
    "pycharm": {
     "name": "#%%\n",
     "is_executing": false
    }
   }
  },
  {
   "cell_type": "code",
   "execution_count": 5,
   "outputs": [
    {
     "data": {
      "text/plain": "array([[1.24788940e-02, 3.20019012e-01, 6.67502094e-01],\n       [9.60196594e-02, 7.70813646e-01, 1.33166694e-01],\n       [9.49169866e-01, 4.94906406e-02, 1.33949374e-03],\n       [9.94978361e-04, 1.38462752e-01, 8.60542269e-01],\n       [9.14044897e-01, 8.46668703e-02, 1.28823272e-03],\n       [1.74311628e-03, 1.08021648e-01, 8.90235236e-01],\n       [9.34319457e-01, 6.47295072e-02, 9.51035589e-04],\n       [3.47829849e-02, 4.62676087e-01, 5.02540928e-01],\n       [2.65785725e-02, 5.05555018e-01, 4.67866409e-01],\n       [1.16874019e-01, 6.60378836e-01, 2.22747145e-01],\n       [9.01581458e-03, 4.15578193e-01, 5.75405992e-01],\n       [5.68516795e-02, 4.99454788e-01, 4.43693533e-01],\n       [4.70876450e-02, 5.99627867e-01, 3.53284488e-01],\n       [3.89787204e-02, 5.43214883e-01, 4.17806397e-01],\n       [4.41601602e-02, 5.48921718e-01, 4.06918122e-01],\n       [9.36940978e-01, 6.21765624e-02, 8.82459154e-04],\n       [5.86307092e-02, 5.69957237e-01, 3.71412054e-01],\n       [8.09158815e-02, 6.90112891e-01, 2.28971228e-01],\n       [9.01846444e-01, 9.70905776e-02, 1.06297829e-03],\n       [9.42598913e-01, 5.60985126e-02, 1.30257408e-03],\n       [2.62300047e-02, 4.45917414e-01, 5.27852582e-01],\n       [7.24025636e-02, 5.71833430e-01, 3.55764006e-01],\n       [8.74831775e-01, 1.22625875e-01, 2.54235010e-03],\n       [9.08890243e-01, 9.03470750e-02, 7.62682435e-04],\n       [2.68341131e-02, 4.66688018e-01, 5.06477869e-01],\n       [9.62804917e-01, 3.68331841e-02, 3.61899001e-04],\n       [8.89820955e-01, 1.06496631e-01, 3.68241389e-03],\n       [7.98975497e-02, 6.18605008e-01, 3.01497442e-01],\n       [2.86727329e-01, 6.64421699e-01, 4.88509728e-02],\n       [8.99054915e-01, 9.90008641e-02, 1.94422069e-03],\n       [7.97175459e-03, 2.71657625e-01, 7.20370620e-01],\n       [7.84225522e-02, 5.80265201e-01, 3.41312247e-01],\n       [9.14831766e-01, 8.37289826e-02, 1.43925165e-03],\n       [2.58328048e-02, 4.20071743e-01, 5.54095452e-01],\n       [4.29079170e-03, 2.31090933e-01, 7.64618276e-01],\n       [1.62518684e-01, 6.73748013e-01, 1.63733302e-01],\n       [8.96837660e-01, 1.00021462e-01, 3.14087812e-03],\n       [1.97746770e-02, 4.72928024e-01, 5.07297299e-01],\n       [9.79757187e-02, 5.95590680e-01, 3.06433601e-01],\n       [1.20757076e-01, 7.03157137e-01, 1.76085787e-01],\n       [4.81443894e-03, 2.18667761e-01, 7.76517800e-01],\n       [9.27716214e-01, 7.15530466e-02, 7.30739405e-04],\n       [8.34928856e-03, 2.36764655e-01, 7.54886057e-01],\n       [9.00784550e-01, 9.68230213e-02, 2.39242903e-03],\n       [9.21279274e-01, 7.71210681e-02, 1.59965766e-03],\n       [2.00726154e-01, 7.45287485e-01, 5.39863609e-02],\n       [7.34496956e-03, 2.79360142e-01, 7.13294888e-01],\n       [2.52722632e-03, 1.24539591e-01, 8.72933182e-01],\n       [1.95626759e-02, 5.94617282e-01, 3.85820042e-01],\n       [3.27560709e-03, 2.80339780e-01, 7.16384613e-01],\n       [1.42056589e-01, 7.23150990e-01, 1.34792421e-01],\n       [7.34515343e-04, 9.68576592e-02, 9.02407826e-01],\n       [4.23329353e-02, 4.34879371e-01, 5.22787693e-01],\n       [1.54972841e-01, 7.31710368e-01, 1.13316791e-01],\n       [2.08602617e-02, 4.56484494e-01, 5.22655245e-01],\n       [1.92028338e-02, 4.56542704e-01, 5.24254463e-01],\n       [6.67682743e-02, 6.51154720e-01, 2.82077006e-01],\n       [1.51860854e-02, 4.48971319e-01, 5.35842595e-01],\n       [3.37851664e-02, 4.46752200e-01, 5.19462634e-01],\n       [1.07527103e-02, 3.00993794e-01, 6.88253496e-01],\n       [6.91773250e-02, 4.69350046e-01, 4.61472629e-01],\n       [8.88940695e-01, 1.09641119e-01, 1.41818566e-03],\n       [1.76303605e-02, 4.27746407e-01, 5.54623233e-01],\n       [1.02438438e-01, 6.75111131e-01, 2.22450431e-01],\n       [2.29964716e-01, 6.32598548e-01, 1.37436736e-01],\n       [1.21541042e-01, 7.11921853e-01, 1.66537104e-01],\n       [5.38148972e-02, 5.49263118e-01, 3.96921985e-01],\n       [2.02838836e-03, 1.51251559e-01, 8.46720053e-01],\n       [9.23652118e-01, 7.48385121e-02, 1.50936959e-03],\n       [9.42591760e-01, 5.70578517e-02, 3.50388139e-04],\n       [9.29583071e-03, 3.48597548e-01, 6.42106621e-01],\n       [1.21061131e-01, 6.36699563e-01, 2.42239306e-01],\n       [8.79607032e-01, 1.17981951e-01, 2.41101772e-03],\n       [9.44212775e-01, 5.35307035e-02, 2.25652115e-03],\n       [2.27617734e-02, 4.10740154e-01, 5.66498073e-01]])"
     },
     "metadata": {},
     "output_type": "execute_result",
     "execution_count": 5
    }
   ],
   "source": [
    "y_score = model.predict_proba(X_test)\n",
    "y_score"
   ],
   "metadata": {
    "collapsed": false,
    "pycharm": {
     "name": "#%%\n",
     "is_executing": false
    }
   }
  },
  {
   "cell_type": "code",
   "execution_count": 6,
   "outputs": [],
   "source": [
    "y_test_one_hot = label_binarize(y_test, classes=[0, 1, 2])"
   ],
   "metadata": {
    "collapsed": false,
    "pycharm": {
     "name": "#%%\n",
     "is_executing": false
    }
   }
  },
  {
   "cell_type": "code",
   "execution_count": 7,
   "outputs": [],
   "source": [
    "# 计算ROC\n",
    "fpr = dict()\n",
    "tpr = dict()\n",
    "roc_auc = dict()\n",
    "fpr[\"micro\"], tpr[\"micro\"], _ = roc_curve(y_test_one_hot.ravel(), y_score.ravel())\n",
    "roc_auc[\"micro\"] = auc(fpr[\"micro\"], tpr[\"micro\"])"
   ],
   "metadata": {
    "collapsed": false,
    "pycharm": {
     "name": "#%%\n",
     "is_executing": false
    }
   }
  },
  {
   "cell_type": "code",
   "execution_count": 8,
   "outputs": [],
   "source": [
    "#加入噪音\n",
    "random_state = np.random.RandomState(0)\n",
    "#设置随机数\n",
    "n_samples, n_features = X.shape\n",
    "# 生成m×n随机矩阵，其元素服从均值为0，方差为1的标准正态分布。(因此randn函数常用来产生高斯白噪声信号)\n",
    "randn = random_state.randn(n_samples, 200 * n_features)\n",
    "X = np.c_[X, randn]\n",
    "#这里设置样本以及特征，n_samples为150，n_features为804（4+800）\n"
   ],
   "metadata": {
    "collapsed": false,
    "pycharm": {
     "name": "#%%\n",
     "is_executing": false
    }
   }
  },
  {
   "cell_type": "code",
   "execution_count": 9,
   "outputs": [],
   "source": [
    "X_train, X_test, y_train, y_test = train_test_split(X, y, test_size=0.5,  random_state=0)\n",
    "#将数据集分为训练集和测试集，比例为1：1"
   ],
   "metadata": {
    "collapsed": false,
    "pycharm": {
     "name": "#%%\n",
     "is_executing": false
    }
   }
  },
  {
   "cell_type": "code",
   "execution_count": 10,
   "outputs": [
    {
     "data": {
      "text/plain": "LogisticRegressionCV(Cs=array([1.00000000e-02, 1.62377674e-02, 2.63665090e-02, 4.28133240e-02,\n       6.95192796e-02, 1.12883789e-01, 1.83298071e-01, 2.97635144e-01,\n       4.83293024e-01, 7.84759970e-01, 1.27427499e+00, 2.06913808e+00,\n       3.35981829e+00, 5.45559478e+00, 8.85866790e+00, 1.43844989e+01,\n       2.33572147e+01, 3.79269019e+01, 6.15848211e+01, 1.00000000e+02]),\n                     cv=3)"
     },
     "metadata": {},
     "output_type": "execute_result",
     "execution_count": 10
    }
   ],
   "source": [
    "alpha = np.logspace(-2, 2, 20)  #设置超参数范围\n",
    "model = LogisticRegressionCV(Cs = alpha, cv = 3, penalty = 'l2')  #使用L2正则化\n",
    "model.fit(X_train, y_train)"
   ],
   "metadata": {
    "collapsed": false,
    "pycharm": {
     "name": "#%%\n",
     "is_executing": false
    }
   }
  },
  {
   "cell_type": "code",
   "execution_count": 11,
   "outputs": [
    {
     "data": {
      "text/plain": "array([[0.21873458, 0.2440035 , 0.53726193],\n       [0.37811923, 0.2011895 , 0.42069126],\n       [0.55431846, 0.15407074, 0.2916108 ],\n       [0.18886443, 0.37114892, 0.43998665],\n       [0.49840793, 0.30971967, 0.1918724 ],\n       [0.2731739 , 0.28011736, 0.44670873],\n       [0.51690993, 0.3000901 , 0.18299997],\n       [0.25459821, 0.48753805, 0.25786375],\n       [0.39362871, 0.30255618, 0.30381511],\n       [0.29223603, 0.33540689, 0.37235708],\n       [0.31780954, 0.31851933, 0.36367113],\n       [0.33549899, 0.18401269, 0.48048832],\n       [0.36997618, 0.22485775, 0.40516607],\n       [0.47812717, 0.22579984, 0.29607298],\n       [0.28673246, 0.32711304, 0.3861545 ],\n       [0.58348172, 0.20329142, 0.21322686],\n       [0.23467299, 0.37125081, 0.3940762 ],\n       [0.27393738, 0.40282076, 0.32324187],\n       [0.60765263, 0.11707735, 0.27527002],\n       [0.41807461, 0.1396499 , 0.44227549],\n       [0.22734073, 0.40160446, 0.37105481],\n       [0.47448275, 0.26933568, 0.25618157],\n       [0.39091605, 0.15518364, 0.45390031],\n       [0.54589269, 0.16390462, 0.2902027 ],\n       [0.24086379, 0.37130569, 0.38783052],\n       [0.4910171 , 0.28349641, 0.22548649],\n       [0.48211557, 0.36920828, 0.14867615],\n       [0.43919514, 0.18775042, 0.37305444],\n       [0.44197104, 0.2919259 , 0.26610306],\n       [0.40628841, 0.17479866, 0.41891293],\n       [0.33288532, 0.30207442, 0.36504026],\n       [0.40168526, 0.14655723, 0.45175751],\n       [0.48933882, 0.2416285 , 0.26903268],\n       [0.25611859, 0.2833656 , 0.46051581],\n       [0.30471146, 0.18170773, 0.51358081],\n       [0.36933751, 0.27519195, 0.35547054],\n       [0.45785244, 0.24376167, 0.29838589],\n       [0.13269977, 0.35776955, 0.50953068],\n       [0.6042294 , 0.18506206, 0.21070854],\n       [0.4738689 , 0.21048655, 0.31564455],\n       [0.26717414, 0.40021913, 0.33260672],\n       [0.54557085, 0.13711143, 0.31731772],\n       [0.30239656, 0.21137024, 0.4862332 ],\n       [0.50564651, 0.15413023, 0.34022326],\n       [0.47918143, 0.15751989, 0.36329867],\n       [0.44257151, 0.15097512, 0.40645337],\n       [0.2285781 , 0.30053756, 0.47088434],\n       [0.18347609, 0.23338212, 0.58314179],\n       [0.24162248, 0.37441951, 0.38395802],\n       [0.11750971, 0.15642731, 0.72606297],\n       [0.39535849, 0.29397516, 0.31066635],\n       [0.38981111, 0.26118851, 0.34900038],\n       [0.3225869 , 0.17395274, 0.50346036],\n       [0.5487819 , 0.20142878, 0.24978932],\n       [0.25853412, 0.33851764, 0.40294823],\n       [0.26436603, 0.258078  , 0.47755597],\n       [0.29138679, 0.36141969, 0.34719352],\n       [0.33353374, 0.23697157, 0.42949469],\n       [0.31182306, 0.32755961, 0.36061733],\n       [0.51848761, 0.15314889, 0.32836349],\n       [0.39819931, 0.24092242, 0.36087827],\n       [0.60890726, 0.14981507, 0.24127767],\n       [0.58571018, 0.16868647, 0.24560335],\n       [0.39123013, 0.19343176, 0.41533811],\n       [0.30440498, 0.29535345, 0.40024157],\n       [0.22168994, 0.44187662, 0.33643344],\n       [0.32740135, 0.22881445, 0.44378421],\n       [0.13066098, 0.19656863, 0.67277039],\n       [0.48430262, 0.22994461, 0.28575277],\n       [0.46445009, 0.2221287 , 0.31342121],\n       [0.3159396 , 0.20589707, 0.47816332],\n       [0.34149111, 0.40713222, 0.25137667],\n       [0.51951798, 0.15872796, 0.32175406],\n       [0.58088721, 0.17123829, 0.24787451],\n       [0.33129209, 0.29078116, 0.37792675]])"
     },
     "metadata": {},
     "output_type": "execute_result",
     "execution_count": 11
    }
   ],
   "source": [
    "y_score = model.predict_proba(X_test)\n",
    "y_score"
   ],
   "metadata": {
    "collapsed": false,
    "pycharm": {
     "name": "#%%\n",
     "is_executing": false
    }
   }
  },
  {
   "cell_type": "code",
   "execution_count": 12,
   "outputs": [],
   "source": [
    "y_test_one_hot = label_binarize(y_test, classes=[0, 1, 2])"
   ],
   "metadata": {
    "collapsed": false,
    "pycharm": {
     "name": "#%%\n",
     "is_executing": false
    }
   }
  },
  {
   "cell_type": "code",
   "execution_count": 13,
   "outputs": [],
   "source": [
    "# 计算ROC\n",
    "fpr[\"micro_noise\"], tpr[\"micro_noise\"], _ = roc_curve(y_test_one_hot.ravel(), y_score.ravel())\n",
    "roc_auc[\"micro_noise\"] = auc(fpr[\"micro_noise\"], tpr[\"micro_noise\"])"
   ],
   "metadata": {
    "collapsed": false,
    "pycharm": {
     "name": "#%%\n",
     "is_executing": false
    }
   }
  },
  {
   "cell_type": "code",
   "execution_count": 19,
   "outputs": [
    {
     "data": {
      "text/plain": "<Figure size 432x288 with 1 Axes>",
      "image/png": "[encoded data removed]"
     },
     "metadata": {
      "needs_background": "light"
     },
     "output_type": "display_data"
    }
   ],
   "source": [
    "#显示到当前界面，保存为svm.png\n",
    "plt.figure()\n",
    "lw = 2\n",
    "plt.plot(fpr[\"micro\"], tpr[\"micro\"], color='green',\n",
    "         lw=lw, label='ROC curve (area = %0.2f)' % roc_auc[\"micro\"])\n",
    "plt.plot(fpr[\"micro_noise\"], tpr[\"micro_noise\"], color='orange',\n",
    "         lw=lw, label='ROC curve noise (area = %0.2f)' % roc_auc[\"micro_noise\"])\n",
    "plt.plot([0, 1], [0, 1], color='navy', lw=lw, linestyle='--')\n",
    "plt.xlim([0.0, 1.0])\n",
    "plt.ylim([0.0, 1.05])\n",
    "plt.xlabel('False Positive Rate')\n",
    "plt.ylabel('True Positive Rate')\n",
    "plt.title('Receiver operating characteristic example')\n",
    "plt.legend(loc=\"lower right\")\n",
    "plt.show()\n",
    "# plt.savefig('svm.png')"
   ],
   "metadata": {
    "collapsed": false,
    "pycharm": {
     "name": "#%%\n",
     "is_executing": false
    }
   }
  },
  {
   "cell_type": "code",
   "execution_count": 14,
   "outputs": [],
   "source": [],
   "metadata": {
    "collapsed": false,
    "pycharm": {
     "name": "#%%\n",
     "is_executing": false
    }
   }
  }
 ],
 "metadata": {
  "kernelspec": {
   "display_name": "Python 3",
   "language": "python",
   "name": "python3"
  },
  "language_info": {
   "codemirror_mode": {
    "name": "ipython",
    "version": 3
   },
   "file_extension": ".py",
   "mimetype": "text/x-python",
   "name": "python",
   "nbconvert_exporter": "python",
   "pygments_lexer": "ipython3",
   "version": "3.7.6"
  },
  "pycharm": {
   "stem_cell": {
    "cell_type": "raw",
    "source": [],
    "metadata": {
     "collapsed": false
    }
   }
  }
 },
 "nbformat": 4,
 "nbformat_minor": 1
}