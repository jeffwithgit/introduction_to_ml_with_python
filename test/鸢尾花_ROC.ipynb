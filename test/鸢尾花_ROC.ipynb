{
 "cells": [
  {
   "cell_type": "code",
   "execution_count": 1,
   "outputs": [],
   "source": [
    "import numpy as np\n",
    "import matplotlib.pyplot as plt\n",
    "from itertools import cycle\n",
    "from sklearn import svm, datasets\n",
    "from sklearn.linear_model import LogisticRegressionCV\n",
    "from sklearn.metrics import roc_curve, auc\n",
    "from sklearn.model_selection import train_test_split\n",
    "from sklearn.preprocessing import label_binarize\n",
    "from sklearn.multiclass import OneVsRestClassifier  # sklearn.multiclass 模块通过将多分类问题化为二分类问题来处理 multiclass 和 multilabel 分类问题。"
   ],
   "metadata": {
    "collapsed": false,
    "pycharm": {
     "name": "#%%\n",
     "is_executing": false
    }
   }
  },
  {
   "cell_type": "code",
   "execution_count": 2,
   "outputs": [],
   "source": [
    "iris = datasets.load_iris()\n",
    "X = iris.data\n",
    "y = iris.target\n",
    "#导入鸢尾花的数据集，并且设定X和y，X指的是各种特征的数据，y指的是分类结果。他们均是np.array形式。"
   ],
   "metadata": {
    "collapsed": false,
    "pycharm": {
     "name": "#%%\n",
     "is_executing": false
    }
   }
  },
  {
   "cell_type": "code",
   "execution_count": 3,
   "outputs": [],
   "source": [
    "X_train, X_test, y_train, y_test = train_test_split(X, y, test_size=0.5,  random_state=0)\n",
    "#将数据集分为训练集和测试集，比例为1：1"
   ],
   "metadata": {
    "collapsed": false,
    "pycharm": {
     "name": "#%%\n",
     "is_executing": false
    }
   }
  },
  {
   "cell_type": "code",
   "execution_count": 4,
   "outputs": [
    {
     "name": "stderr",
     "text": [
      "/usr/local/lib/python3.7/site-packages/sklearn/linear_model/_logistic.py:764: ConvergenceWarning: lbfgs failed to converge (status=1):\n",
      "STOP: TOTAL NO. of ITERATIONS REACHED LIMIT.\n",
      "\n",
      "Increase the number of iterations (max_iter) or scale the data as shown in:\n",
      "    https://scikit-learn.org/stable/modules/preprocessing.html\n",
      "Please also refer to the documentation for alternative solver options:\n",
      "    https://scikit-learn.org/stable/modules/linear_model.html#logistic-regression\n",
      "  extra_warning_msg=_LOGISTIC_SOLVER_CONVERGENCE_MSG)\n",
      "/usr/local/lib/python3.7/site-packages/sklearn/linear_model/_logistic.py:764: ConvergenceWarning: lbfgs failed to converge (status=1):\n",
      "STOP: TOTAL NO. of ITERATIONS REACHED LIMIT.\n",
      "\n",
      "Increase the number of iterations (max_iter) or scale the data as shown in:\n",
      "    https://scikit-learn.org/stable/modules/preprocessing.html\n",
      "Please also refer to the documentation for alternative solver options:\n",
      "    https://scikit-learn.org/stable/modules/linear_model.html#logistic-regression\n",
      "  extra_warning_msg=_LOGISTIC_SOLVER_CONVERGENCE_MSG)\n",
      "/usr/local/lib/python3.7/site-packages/sklearn/linear_model/_logistic.py:764: ConvergenceWarning: lbfgs failed to converge (status=1):\n",
      "STOP: TOTAL NO. of ITERATIONS REACHED LIMIT.\n",
      "\n",
      "Increase the number of iterations (max_iter) or scale the data as shown in:\n",
      "    https://scikit-learn.org/stable/modules/preprocessing.html\n",
      "Please also refer to the documentation for alternative solver options:\n",
      "    https://scikit-learn.org/stable/modules/linear_model.html#logistic-regression\n",
      "  extra_warning_msg=_LOGISTIC_SOLVER_CONVERGENCE_MSG)\n"
     ],
     "output_type": "stream"
    },
    {
     "data": {
      "text/plain": "LogisticRegressionCV(Cs=array([1.00000000e-02, 1.62377674e-02, 2.63665090e-02, 4.28133240e-02,\n       6.95192796e-02, 1.12883789e-01, 1.83298071e-01, 2.97635144e-01,\n       4.83293024e-01, 7.84759970e-01, 1.27427499e+00, 2.06913808e+00,\n       3.35981829e+00, 5.45559478e+00, 8.85866790e+00, 1.43844989e+01,\n       2.33572147e+01, 3.79269019e+01, 6.15848211e+01, 1.00000000e+02]),\n                     cv=3)"
     },
     "metadata": {},
     "output_type": "execute_result",
     "execution_count": 4
    }
   ],
   "source": [
    "alpha = np.logspace(-2, 2, 20)  #设置超参数范围\n",
    "model = LogisticRegressionCV(Cs = alpha, cv = 3, penalty = 'l2')  #使用L2正则化\n",
    "model.fit(X_train, y_train)"
   ],
   "metadata": {
    "collapsed": false,
    "pycharm": {
     "name": "#%%\n",
     "is_executing": false
    }
   }
  },
  {
   "cell_type": "code",
   "execution_count": 5,
   "outputs": [
    {
     "data": {
      "text/plain": "array([[1.24788940e-02, 3.20019012e-01, 6.67502094e-01],\n       [9.60196594e-02, 7.70813646e-01, 1.33166694e-01],\n       [9.49169866e-01, 4.94906406e-02, 1.33949374e-03],\n       [9.94978361e-04, 1.38462752e-01, 8.60542269e-01],\n       [9.14044897e-01, 8.46668703e-02, 1.28823272e-03],\n       [1.74311628e-03, 1.08021648e-01, 8.90235236e-01],\n       [9.34319457e-01, 6.47295072e-02, 9.51035589e-04],\n       [3.47829849e-02, 4.62676087e-01, 5.02540928e-01],\n       [2.65785725e-02, 5.05555018e-01, 4.67866409e-01],\n       [1.16874019e-01, 6.60378836e-01, 2.22747145e-01],\n       [9.01581458e-03, 4.15578193e-01, 5.75405992e-01],\n       [5.68516795e-02, 4.99454788e-01, 4.43693533e-01],\n       [4.70876450e-02, 5.99627867e-01, 3.53284488e-01],\n       [3.89787204e-02, 5.43214883e-01, 4.17806397e-01],\n       [4.41601602e-02, 5.48921718e-01, 4.06918122e-01],\n       [9.36940978e-01, 6.21765624e-02, 8.82459154e-04],\n       [5.86307092e-02, 5.69957237e-01, 3.71412054e-01],\n       [8.09158815e-02, 6.90112891e-01, 2.28971228e-01],\n       [9.01846444e-01, 9.70905776e-02, 1.06297829e-03],\n       [9.42598913e-01, 5.60985126e-02, 1.30257408e-03],\n       [2.62300047e-02, 4.45917414e-01, 5.27852582e-01],\n       [7.24025636e-02, 5.71833430e-01, 3.55764006e-01],\n       [8.74831775e-01, 1.22625875e-01, 2.54235010e-03],\n       [9.08890243e-01, 9.03470750e-02, 7.62682435e-04],\n       [2.68341131e-02, 4.66688018e-01, 5.06477869e-01],\n       [9.62804917e-01, 3.68331841e-02, 3.61899001e-04],\n       [8.89820955e-01, 1.06496631e-01, 3.68241389e-03],\n       [7.98975497e-02, 6.18605008e-01, 3.01497442e-01],\n       [2.86727329e-01, 6.64421699e-01, 4.88509728e-02],\n       [8.99054915e-01, 9.90008641e-02, 1.94422069e-03],\n       [7.97175459e-03, 2.71657625e-01, 7.20370620e-01],\n       [7.84225522e-02, 5.80265201e-01, 3.41312247e-01],\n       [9.14831766e-01, 8.37289826e-02, 1.43925165e-03],\n       [2.58328048e-02, 4.20071743e-01, 5.54095452e-01],\n       [4.29079170e-03, 2.31090933e-01, 7.64618276e-01],\n       [1.62518684e-01, 6.73748013e-01, 1.63733302e-01],\n       [8.96837660e-01, 1.00021462e-01, 3.14087812e-03],\n       [1.97746770e-02, 4.72928024e-01, 5.07297299e-01],\n       [9.79757187e-02, 5.95590680e-01, 3.06433601e-01],\n       [1.20757076e-01, 7.03157137e-01, 1.76085787e-01],\n       [4.81443894e-03, 2.18667761e-01, 7.76517800e-01],\n       [9.27716214e-01, 7.15530466e-02, 7.30739405e-04],\n       [8.34928856e-03, 2.36764655e-01, 7.54886057e-01],\n       [9.00784550e-01, 9.68230213e-02, 2.39242903e-03],\n       [9.21279274e-01, 7.71210681e-02, 1.59965766e-03],\n       [2.00726154e-01, 7.45287485e-01, 5.39863609e-02],\n       [7.34496956e-03, 2.79360142e-01, 7.13294888e-01],\n       [2.52722632e-03, 1.24539591e-01, 8.72933182e-01],\n       [1.95626759e-02, 5.94617282e-01, 3.85820042e-01],\n       [3.27560709e-03, 2.80339780e-01, 7.16384613e-01],\n       [1.42056589e-01, 7.23150990e-01, 1.34792421e-01],\n       [7.34515343e-04, 9.68576592e-02, 9.02407826e-01],\n       [4.23329353e-02, 4.34879371e-01, 5.22787693e-01],\n       [1.54972841e-01, 7.31710368e-01, 1.13316791e-01],\n       [2.08602617e-02, 4.56484494e-01, 5.22655245e-01],\n       [1.92028338e-02, 4.56542704e-01, 5.24254463e-01],\n       [6.67682743e-02, 6.51154720e-01, 2.82077006e-01],\n       [1.51860854e-02, 4.48971319e-01, 5.35842595e-01],\n       [3.37851664e-02, 4.46752200e-01, 5.19462634e-01],\n       [1.07527103e-02, 3.00993794e-01, 6.88253496e-01],\n       [6.91773250e-02, 4.69350046e-01, 4.61472629e-01],\n       [8.88940695e-01, 1.09641119e-01, 1.41818566e-03],\n       [1.76303605e-02, 4.27746407e-01, 5.54623233e-01],\n       [1.02438438e-01, 6.75111131e-01, 2.22450431e-01],\n       [2.29964716e-01, 6.32598548e-01, 1.37436736e-01],\n       [1.21541042e-01, 7.11921853e-01, 1.66537104e-01],\n       [5.38148972e-02, 5.49263118e-01, 3.96921985e-01],\n       [2.02838836e-03, 1.51251559e-01, 8.46720053e-01],\n       [9.23652118e-01, 7.48385121e-02, 1.50936959e-03],\n       [9.42591760e-01, 5.70578517e-02, 3.50388139e-04],\n       [9.29583071e-03, 3.48597548e-01, 6.42106621e-01],\n       [1.21061131e-01, 6.36699563e-01, 2.42239306e-01],\n       [8.79607032e-01, 1.17981951e-01, 2.41101772e-03],\n       [9.44212775e-01, 5.35307035e-02, 2.25652115e-03],\n       [2.27617734e-02, 4.10740154e-01, 5.66498073e-01]])"
     },
     "metadata": {},
     "output_type": "execute_result",
     "execution_count": 5
    }
   ],
   "source": [
    "y_score = model.predict_proba(X_test)\n",
    "y_score"
   ],
   "metadata": {
    "collapsed": false,
    "pycharm": {
     "name": "#%%\n",
     "is_executing": false
    }
   }
  },
  {
   "cell_type": "code",
   "execution_count": 6,
   "outputs": [],
   "source": [
    "y_test_one_hot = label_binarize(y_test, classes=[0, 1, 2])"
   ],
   "metadata": {
    "collapsed": false,
    "pycharm": {
     "name": "#%%\n",
     "is_executing": false
    }
   }
  },
  {
   "cell_type": "code",
   "execution_count": 7,
   "outputs": [],
   "source": [
    "# 计算ROC\n",
    "fpr = dict()\n",
    "tpr = dict()\n",
    "roc_auc = dict()\n",
    "fpr[\"micro\"], tpr[\"micro\"], _ = roc_curve(y_test_one_hot.ravel(), y_score.ravel())\n",
    "roc_auc[\"micro\"] = auc(fpr[\"micro\"], tpr[\"micro\"])"
   ],
   "metadata": {
    "collapsed": false,
    "pycharm": {
     "name": "#%%\n",
     "is_executing": false
    }
   }
  },
  {
   "cell_type": "code",
   "execution_count": 8,
   "outputs": [
    {
     "data": {
      "text/plain": "<Figure size 432x288 with 1 Axes>",
      "image/png": "[encoded data removed]"
     },
     "metadata": {
      "needs_background": "light"
     },
     "output_type": "display_data"
    }
   ],
   "source": [
    "#显示到当前界面，保存为svm.png\n",
    "plt.figure()\n",
    "lw = 2\n",
    "plt.plot(fpr[\"micro\"], tpr[\"micro\"], color='darkorange',\n",
    "         lw=lw, label='ROC curve (area = %0.2f)' % roc_auc[\"micro\"])\n",
    "plt.plot([0, 1], [0, 1], color='navy', lw=lw, linestyle='--')\n",
    "plt.xlim([0.0, 1.0])\n",
    "plt.ylim([0.0, 1.05])\n",
    "plt.xlabel('False Positive Rate')\n",
    "plt.ylabel('True Positive Rate')\n",
    "plt.title('Receiver operating characteristic example')\n",
    "plt.legend(loc=\"lower right\")\n",
    "plt.show()\n",
    "# plt.savefig('svm.png')"
   ],
   "metadata": {
    "collapsed": false,
    "pycharm": {
     "name": "#%%\n",
     "is_executing": false
    }
   }
  },
  {
   "cell_type": "code",
   "execution_count": 8,
   "outputs": [],
   "source": [],
   "metadata": {
    "collapsed": false,
    "pycharm": {
     "name": "#%%\n",
     "is_executing": false
    }
   }
  }
 ],
 "metadata": {
  "kernelspec": {
   "display_name": "Python 3",
   "language": "python",
   "name": "python3"
  },
  "language_info": {
   "codemirror_mode": {
    "name": "ipython",
    "version": 3
   },
   "file_extension": ".py",
   "mimetype": "text/x-python",
   "name": "python",
   "nbconvert_exporter": "python",
   "pygments_lexer": "ipython3",
   "version": "3.7.6"
  },
  "pycharm": {
   "stem_cell": {
    "cell_type": "raw",
    "source": [],
    "metadata": {
     "collapsed": false
    }
   }
  }
 },
 "nbformat": 4,
 "nbformat_minor": 1
}